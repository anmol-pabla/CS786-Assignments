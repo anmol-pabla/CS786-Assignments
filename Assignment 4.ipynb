{
  "nbformat": 4,
  "nbformat_minor": 0,
  "metadata": {
    "colab": {
      "name": "190154_A4.ipynb",
      "provenance": []
    },
    "kernelspec": {
      "name": "python3",
      "display_name": "Python 3"
    },
    "language_info": {
      "name": "python"
    }
  },
  "cells": [
    {
      "cell_type": "markdown",
      "source": [
        "# CS786 Assignment 4 by Anmol Pabla (190154)\n",
        "\n",
        "---\n",
        "\n"
      ],
      "metadata": {
        "id": "Hxwj1hAKQj4L"
      }
    },
    {
      "cell_type": "markdown",
      "source": [
        "## Q1 Implementing a GCM Model:"
      ],
      "metadata": {
        "id": "N5JJvlxBKFbW"
      }
    },
    {
      "cell_type": "markdown",
      "source": [
        "Implementing the model based on assumptions:\n",
        "*   Subject is polite, and is far more likely to call someone big average \n",
        "than\n",
        "large\n",
        "\n",
        "*   Subject is more likely to use weight than height to make category\n",
        "judgments about size."
      ],
      "metadata": {
        "id": "S8mN_A_uREYz"
      }
    },
    {
      "cell_type": "code",
      "execution_count": 383,
      "metadata": {
        "id": "r6OlrIzVZYwz"
      },
      "outputs": [],
      "source": [
        "# Importing the necessary Libraries \n",
        "import pandas as pd\n",
        "import numpy as np\n",
        "\n",
        "# Importing data provided in CSVs and converting it into np arrays\n",
        "test_df = pd.read_csv('Y.csv',header=None)\n",
        "train_df = pd.read_csv('X.csv',header=None)\n",
        "\n",
        "train = train_df.to_numpy()\n",
        "test = test_df.to_numpy()"
      ]
    },
    {
      "cell_type": "code",
      "source": [
        "# First 5 rows of the traning data\n",
        "train_df.head()"
      ],
      "metadata": {
        "colab": {
          "base_uri": "https://localhost:8080/",
          "height": 206
        },
        "id": "-Ua_s06QGdX3",
        "outputId": "fc2d7525-cea2-41e0-9726-1c3c32288738"
      },
      "execution_count": 384,
      "outputs": [
        {
          "output_type": "execute_result",
          "data": {
            "text/plain": [
              "    0   1  2\n",
              "0  48  58  1\n",
              "1  54  62  1\n",
              "2  48  56  1\n",
              "3  46  62  1\n",
              "4  47  59  1"
            ],
            "text/html": [
              "\n",
              "  <div id=\"df-e510daa1-6b42-4e3f-92e4-40c023fdf070\">\n",
              "    <div class=\"colab-df-container\">\n",
              "      <div>\n",
              "<style scoped>\n",
              "    .dataframe tbody tr th:only-of-type {\n",
              "        vertical-align: middle;\n",
              "    }\n",
              "\n",
              "    .dataframe tbody tr th {\n",
              "        vertical-align: top;\n",
              "    }\n",
              "\n",
              "    .dataframe thead th {\n",
              "        text-align: right;\n",
              "    }\n",
              "</style>\n",
              "<table border=\"1\" class=\"dataframe\">\n",
              "  <thead>\n",
              "    <tr style=\"text-align: right;\">\n",
              "      <th></th>\n",
              "      <th>0</th>\n",
              "      <th>1</th>\n",
              "      <th>2</th>\n",
              "    </tr>\n",
              "  </thead>\n",
              "  <tbody>\n",
              "    <tr>\n",
              "      <th>0</th>\n",
              "      <td>48</td>\n",
              "      <td>58</td>\n",
              "      <td>1</td>\n",
              "    </tr>\n",
              "    <tr>\n",
              "      <th>1</th>\n",
              "      <td>54</td>\n",
              "      <td>62</td>\n",
              "      <td>1</td>\n",
              "    </tr>\n",
              "    <tr>\n",
              "      <th>2</th>\n",
              "      <td>48</td>\n",
              "      <td>56</td>\n",
              "      <td>1</td>\n",
              "    </tr>\n",
              "    <tr>\n",
              "      <th>3</th>\n",
              "      <td>46</td>\n",
              "      <td>62</td>\n",
              "      <td>1</td>\n",
              "    </tr>\n",
              "    <tr>\n",
              "      <th>4</th>\n",
              "      <td>47</td>\n",
              "      <td>59</td>\n",
              "      <td>1</td>\n",
              "    </tr>\n",
              "  </tbody>\n",
              "</table>\n",
              "</div>\n",
              "      <button class=\"colab-df-convert\" onclick=\"convertToInteractive('df-e510daa1-6b42-4e3f-92e4-40c023fdf070')\"\n",
              "              title=\"Convert this dataframe to an interactive table.\"\n",
              "              style=\"display:none;\">\n",
              "        \n",
              "  <svg xmlns=\"http://www.w3.org/2000/svg\" height=\"24px\"viewBox=\"0 0 24 24\"\n",
              "       width=\"24px\">\n",
              "    <path d=\"M0 0h24v24H0V0z\" fill=\"none\"/>\n",
              "    <path d=\"M18.56 5.44l.94 2.06.94-2.06 2.06-.94-2.06-.94-.94-2.06-.94 2.06-2.06.94zm-11 1L8.5 8.5l.94-2.06 2.06-.94-2.06-.94L8.5 2.5l-.94 2.06-2.06.94zm10 10l.94 2.06.94-2.06 2.06-.94-2.06-.94-.94-2.06-.94 2.06-2.06.94z\"/><path d=\"M17.41 7.96l-1.37-1.37c-.4-.4-.92-.59-1.43-.59-.52 0-1.04.2-1.43.59L10.3 9.45l-7.72 7.72c-.78.78-.78 2.05 0 2.83L4 21.41c.39.39.9.59 1.41.59.51 0 1.02-.2 1.41-.59l7.78-7.78 2.81-2.81c.8-.78.8-2.07 0-2.86zM5.41 20L4 18.59l7.72-7.72 1.47 1.35L5.41 20z\"/>\n",
              "  </svg>\n",
              "      </button>\n",
              "      \n",
              "  <style>\n",
              "    .colab-df-container {\n",
              "      display:flex;\n",
              "      flex-wrap:wrap;\n",
              "      gap: 12px;\n",
              "    }\n",
              "\n",
              "    .colab-df-convert {\n",
              "      background-color: #E8F0FE;\n",
              "      border: none;\n",
              "      border-radius: 50%;\n",
              "      cursor: pointer;\n",
              "      display: none;\n",
              "      fill: #1967D2;\n",
              "      height: 32px;\n",
              "      padding: 0 0 0 0;\n",
              "      width: 32px;\n",
              "    }\n",
              "\n",
              "    .colab-df-convert:hover {\n",
              "      background-color: #E2EBFA;\n",
              "      box-shadow: 0px 1px 2px rgba(60, 64, 67, 0.3), 0px 1px 3px 1px rgba(60, 64, 67, 0.15);\n",
              "      fill: #174EA6;\n",
              "    }\n",
              "\n",
              "    [theme=dark] .colab-df-convert {\n",
              "      background-color: #3B4455;\n",
              "      fill: #D2E3FC;\n",
              "    }\n",
              "\n",
              "    [theme=dark] .colab-df-convert:hover {\n",
              "      background-color: #434B5C;\n",
              "      box-shadow: 0px 1px 3px 1px rgba(0, 0, 0, 0.15);\n",
              "      filter: drop-shadow(0px 1px 2px rgba(0, 0, 0, 0.3));\n",
              "      fill: #FFFFFF;\n",
              "    }\n",
              "  </style>\n",
              "\n",
              "      <script>\n",
              "        const buttonEl =\n",
              "          document.querySelector('#df-e510daa1-6b42-4e3f-92e4-40c023fdf070 button.colab-df-convert');\n",
              "        buttonEl.style.display =\n",
              "          google.colab.kernel.accessAllowed ? 'block' : 'none';\n",
              "\n",
              "        async function convertToInteractive(key) {\n",
              "          const element = document.querySelector('#df-e510daa1-6b42-4e3f-92e4-40c023fdf070');\n",
              "          const dataTable =\n",
              "            await google.colab.kernel.invokeFunction('convertToInteractive',\n",
              "                                                     [key], {});\n",
              "          if (!dataTable) return;\n",
              "\n",
              "          const docLinkHtml = 'Like what you see? Visit the ' +\n",
              "            '<a target=\"_blank\" href=https://colab.research.google.com/notebooks/data_table.ipynb>data table notebook</a>'\n",
              "            + ' to learn more about interactive tables.';\n",
              "          element.innerHTML = '';\n",
              "          dataTable['output_type'] = 'display_data';\n",
              "          await google.colab.output.renderOutput(dataTable, element);\n",
              "          const docLink = document.createElement('div');\n",
              "          docLink.innerHTML = docLinkHtml;\n",
              "          element.appendChild(docLink);\n",
              "        }\n",
              "      </script>\n",
              "    </div>\n",
              "  </div>\n",
              "  "
            ]
          },
          "metadata": {},
          "execution_count": 384
        }
      ]
    },
    {
      "cell_type": "code",
      "source": [
        "# function to get distance between train data and stimulus\n",
        "def get_dist(x, y, alpha):\n",
        "  dist = 0\n",
        "  for i in range(len(alpha)):\n",
        "    dist += alpha[i]*(x[i]-y[i])\n",
        "  return abs(dist)  \n",
        "\n",
        "# function to get similarity between between train data and stimulus\n",
        "def get_similarity(x, y, alpha, beta):\n",
        "  dist = get_dist(x,y,alpha)\n",
        "  return np.exp(-1*beta*dist)"
      ],
      "metadata": {
        "id": "x4BMWiANdDiA"
      },
      "execution_count": 385,
      "outputs": []
    },
    {
      "cell_type": "code",
      "source": [
        "# Function to determine the category the stimulus y belongs to\n",
        "def categorize(y, train, alpha, beta, gamma):\n",
        "  sums = np.zeros(3)\n",
        "  prob = np.zeros(3)\n",
        "\n",
        "  # Getting the summations needed\n",
        "  for i in range(len(train)):\n",
        "    cat = train[i][2]-1\n",
        "    sums[cat] += gamma[cat]*get_similarity(train[i],y,alpha,beta)\n",
        "  \n",
        "  # Calculating Probabilities\n",
        "  prob[0] = sums[0]/(sums[0]+sums[1]+sums[2])\n",
        "  prob[1] = sums[1]/(sums[0]+sums[1]+sums[2])\n",
        "  prob[2] = sums[2]/(sums[0]+sums[1]+sums[2])\n",
        "\n",
        "  # returning the argument with max probability as selected category\n",
        "  return np.argmax(prob) "
      ],
      "metadata": {
        "id": "m0z1vE4rfYw9"
      },
      "execution_count": 386,
      "outputs": []
    },
    {
      "cell_type": "code",
      "source": [
        "# Function to mplement the model and use utility functions defined above\n",
        "def GCM(train, stimulus):\n",
        "  Label = ['Small', 'Average', 'Large']\n",
        "  # Giving more weightage to weight than height\n",
        "  alpha = [0.2,0.1]\n",
        "  beta = 1\n",
        "  # Biasing against Large as the Subject is polite\n",
        "  gamma = [1,1,0.7]\n",
        "\n",
        "  cat = categorize(stimulus, train, alpha, beta, gamma)\n",
        "  return Label[cat] "
      ],
      "metadata": {
        "id": "V8oJKdAGjQVI"
      },
      "execution_count": 387,
      "outputs": []
    },
    {
      "cell_type": "code",
      "source": [
        "# Calling the GCM function over all test data points\n",
        "for c in test:\n",
        "  category = GCM(train,c)\n",
        "  print('For Weight:',c[0],'Kg and Height',c[1],'inches, The Category assigned is ', category)"
      ],
      "metadata": {
        "colab": {
          "base_uri": "https://localhost:8080/"
        },
        "id": "eLm-t-aMClBo",
        "outputId": "ca94023e-0a86-4b61-87c1-df1dc09b5bac"
      },
      "execution_count": 388,
      "outputs": [
        {
          "output_type": "stream",
          "name": "stdout",
          "text": [
            "For Weight: 74 Kg and Height 67 inches, The Category assigned is  Average\n",
            "For Weight: 69 Kg and Height 63 inches, The Category assigned is  Average\n",
            "For Weight: 92 Kg and Height 81 inches, The Category assigned is  Large\n",
            "For Weight: 64 Kg and Height 61 inches, The Category assigned is  Average\n",
            "For Weight: 66 Kg and Height 84 inches, The Category assigned is  Average\n",
            "For Weight: 76 Kg and Height 68 inches, The Category assigned is  Large\n",
            "For Weight: 61 Kg and Height 58 inches, The Category assigned is  Average\n",
            "For Weight: 64 Kg and Height 76 inches, The Category assigned is  Average\n",
            "For Weight: 68 Kg and Height 66 inches, The Category assigned is  Average\n",
            "For Weight: 34 Kg and Height 61 inches, The Category assigned is  Small\n"
          ]
        }
      ]
    },
    {
      "cell_type": "markdown",
      "source": [
        "The data obtained from GCM categorization is given above."
      ],
      "metadata": {
        "id": "gc29gvmGcMM_"
      }
    },
    {
      "cell_type": "markdown",
      "source": [
        "---\n",
        "##Q2 Implementing the RMC Model:\n"
      ],
      "metadata": {
        "id": "yGM_cCXOKI9D"
      }
    },
    {
      "cell_type": "markdown",
      "source": [
        "Modifications have been made to the original code provided, these changes have been made to ensure that the clustering done by the RMC Model is limited to three categories and the partitions are formulated correctly to enhance the performance of the model"
      ],
      "metadata": {
        "id": "tLI-7ui1U-_1"
      }
    },
    {
      "cell_type": "code",
      "source": [
        "\n",
        "# Implementation of Anderson's venerable \"rational\" model of categorization.\n",
        "# rather than compute the full Bayesian posterior, it views items sequentially\n",
        "# and assigns each to the maximum a posteriori cluster.\n",
        "#\n",
        "# At the end it is presented with a stimulus with one item missing, and\n",
        "# predicts the probability that its value is a '0' or a '1' or a '2'\n",
        "#\n",
        "# Modified on the Implementation in python by John McDonnell\n",
        "#\n",
        "# References: Anderson (1990) and Anderson (1991),\n",
        "\n",
        "\n",
        "\n",
        "#Utility functions:\n",
        "\n",
        "class RMC_Class:\n",
        "    \"\"\"\n",
        "    See Anderson (1990, 1991)\n",
        "    'Categories' renamed 'clusters' to avoid confusion.\n",
        "    Discrete version.\n",
        "    \n",
        "    Stimulus format is a list of integers from 0 to n-1 where n is the number\n",
        "    of possible features (e.g. [1,0,1])\n",
        "    \n",
        "    args: c, alphas\n",
        "    \"\"\"\n",
        "    \n",
        "    def __init__(self, args):\n",
        "        self.partition = [[],[],[]]\n",
        "        self.c, self.alpha = args\n",
        "        self.alpha0 = sum(self.alpha.T)\n",
        "        self.N = 0\n",
        "    \n",
        "    def probClustVal(self, k, i, val):\n",
        "        # Find P(j|k)\n",
        "        cj = len([x for x in self.partition[k] if x[i]==val])\n",
        "        nk = len(self.partition)\n",
        "        return (cj + self.alpha[i])/(nk + self.alpha0)\n",
        "    \n",
        "    def condclusterprob(self, stim, k):\n",
        "        # Find P(F|k)\n",
        "        pjks = []\n",
        "        for i in range(len(stim)):\n",
        "            cj = len([x for x in self.partition[k] if x[i]==stim[i]])\n",
        "            nk = len(self.partition[k])\n",
        "            pjks.append( (cj + self.alpha[i])/(nk + self.alpha0) )\n",
        "        return np.product( pjks )\n",
        "        \n",
        "    \n",
        "    def posterior(self, stim):\n",
        "        # Find P(k|F) for each cluster\n",
        "        pk = np.zeros( len(self.partition) )\n",
        "        pFk = np.zeros( len(self.partition) )\n",
        "        \n",
        "        # existing clusters:\n",
        "        for k in range(len(self.partition)):\n",
        "            pk[k] = self.c * len(self.partition[k])/ ((1-self.c) + self.c * self.N)\n",
        "            if len(self.partition[k])==0: # case of new cluster\n",
        "                pk[k] = (1-self.c) / (( 1-self.c ) + self.c * self.N)\n",
        "            pFk[k] = self.condclusterprob( stim, k)\n",
        "        \n",
        "        # put it together\n",
        "        pkF = (pk*pFk) \n",
        "        \n",
        "        return pkF\n",
        "    \n",
        "    def stimulate(self, stim):\n",
        "        category = stim[2]-1       \n",
        "        # Adding stimulus to the right category partition\n",
        "        # Here we make use of the fact we need only three categories and training\n",
        "        # data is available for the categories\n",
        "        self.partition[category].append(stim)\n",
        "        \n",
        "        self.N += 1\n",
        "    \n",
        "    def query(self, stimulus):\n",
        "        # Queried value should be -1\n",
        "        qdim = -1\n",
        "        for i in range(len(stimulus)):\n",
        "            if stimulus[i] < 0:\n",
        "                if qdim != -1:\n",
        "                    raise Exception(\"ERROR: Multiple dimensions queried.\")\n",
        "                qdim = i\n",
        "        \n",
        "        self.N = sum([len(x) for x in self.partition])\n",
        "        \n",
        "        # Calculating probabilities using Partition\n",
        "        pkF = self.posterior(stimulus)\n",
        "\n",
        "        pjF = np.array( [sum( [ pkF[k] * self.probClustVal(k, qdim, j+1) \n",
        "                          for k in range(len(self.partition))] ) \n",
        "                          for j in range(3)] )\n",
        "        \n",
        "        Final = pjF / sum(pjF)\n",
        "        return Final\n"
      ],
      "metadata": {
        "id": "0rLQNtL_Zsaa"
      },
      "execution_count": 389,
      "outputs": []
    },
    {
      "cell_type": "code",
      "source": [
        "# Modeling the RMC functions which return the category with the help of \n",
        "# utility functions defined above\n",
        "def RMC(train, stimulus):\n",
        "  Label = ['Small', 'Average', 'Large']\n",
        "  model = RMC_Class([0.8, np.array([0.2,0.1,0.3])])\n",
        "  for s in train:\n",
        "      model.stimulate(s)\n",
        "\n",
        "  cat = model.query( stimulus + [-1] )\n",
        "  return Label[np.argmax(cat)]"
      ],
      "metadata": {
        "id": "gdnpVWozeIgO"
      },
      "execution_count": 390,
      "outputs": []
    },
    {
      "cell_type": "code",
      "source": [
        "# Calling the above defined RMC functon for all data points\n",
        "for c in test: \n",
        "  category = RMC(train, c)\n",
        "  print('For Weight:',c[0],'Kg and Height',c[1],'inches, The Category assigned is ', category)"
      ],
      "metadata": {
        "colab": {
          "base_uri": "https://localhost:8080/"
        },
        "id": "7op7ZMeygFBw",
        "outputId": "44521443-a76d-48b3-f56c-31b78b2d9868"
      },
      "execution_count": 391,
      "outputs": [
        {
          "output_type": "stream",
          "name": "stdout",
          "text": [
            "For Weight: 74 Kg and Height 67 inches, The Category assigned is  Average\n",
            "For Weight: 69 Kg and Height 63 inches, The Category assigned is  Average\n",
            "For Weight: 92 Kg and Height 81 inches, The Category assigned is  Average\n",
            "For Weight: 64 Kg and Height 61 inches, The Category assigned is  Average\n",
            "For Weight: 66 Kg and Height 84 inches, The Category assigned is  Average\n",
            "For Weight: 76 Kg and Height 68 inches, The Category assigned is  Average\n",
            "For Weight: 61 Kg and Height 58 inches, The Category assigned is  Small\n",
            "For Weight: 64 Kg and Height 76 inches, The Category assigned is  Average\n",
            "For Weight: 68 Kg and Height 66 inches, The Category assigned is  Average\n",
            "For Weight: 34 Kg and Height 61 inches, The Category assigned is  Small\n"
          ]
        }
      ]
    },
    {
      "cell_type": "markdown",
      "source": [
        "The data obtained from RMC categorization is given above."
      ],
      "metadata": {
        "id": "Qf1UAKkScapt"
      }
    },
    {
      "cell_type": "markdown",
      "source": [
        "---\n",
        "##Q3 Empirically verifying that the above models assume exchangability of data\n",
        "\n"
      ],
      "metadata": {
        "id": "ssVjPO_sDasc"
      }
    },
    {
      "cell_type": "markdown",
      "source": [
        "To empirically verify that the above models assume exchangablity of data, we pass shuffled datasets through these models. \n",
        "\n",
        "If the models are indeed data exchangable, we would acheive same predictions in each case.\n",
        "\n",
        "---\n",
        "\n"
      ],
      "metadata": {
        "id": "ADwjYObFXwQC"
      }
    },
    {
      "cell_type": "markdown",
      "source": [
        "GCM Model:"
      ],
      "metadata": {
        "id": "rHG_DG3na8Ho"
      }
    },
    {
      "cell_type": "code",
      "source": [
        "# List to store predctions for each run\n",
        "categorizations_GCM = []\n",
        "\n",
        "# We will be analysing the data for 7 different shuffles\n",
        "for j in range(7):\n",
        "  cat_iteration = []\n",
        "  # shuffling the data\n",
        "  np.random.shuffle(train)\n",
        "\n",
        "  # Getting the categorzations\n",
        "  for i in range(len(test)):\n",
        "    cat_iteration.append(GCM(train,test[i]))\n",
        "  \n",
        "  # Storing the categorzations of each run in categorizations_GCM  \n",
        "  categorizations_GCM.append(cat_iteration)\n",
        "\n",
        "# Transposing categorizations_GCM, this would cause each row to have categorization\n",
        "# results for a test data point acheived over the 7 shufflling itertions\n",
        "categorizations_GCM = np.transpose(categorizations_GCM)  \n",
        "\n",
        "for i in range(len(test)):\n",
        "  print('For the Test Data point', i+1,' we obtain these results:')\n",
        "  print('   ',categorizations_GCM[i],'\\n')"
      ],
      "metadata": {
        "colab": {
          "base_uri": "https://localhost:8080/"
        },
        "id": "lyYHjckdPI1C",
        "outputId": "16978f75-287f-4e0a-ce9c-3c6d5c2a194e"
      },
      "execution_count": 392,
      "outputs": [
        {
          "output_type": "stream",
          "name": "stdout",
          "text": [
            "For the Test Data point 1  we obtain these results:\n",
            "    ['Average' 'Average' 'Average' 'Average' 'Average' 'Average' 'Average'] \n",
            "\n",
            "For the Test Data point 2  we obtain these results:\n",
            "    ['Average' 'Average' 'Average' 'Average' 'Average' 'Average' 'Average'] \n",
            "\n",
            "For the Test Data point 3  we obtain these results:\n",
            "    ['Large' 'Large' 'Large' 'Large' 'Large' 'Large' 'Large'] \n",
            "\n",
            "For the Test Data point 4  we obtain these results:\n",
            "    ['Average' 'Average' 'Average' 'Average' 'Average' 'Average' 'Average'] \n",
            "\n",
            "For the Test Data point 5  we obtain these results:\n",
            "    ['Average' 'Average' 'Average' 'Average' 'Average' 'Average' 'Average'] \n",
            "\n",
            "For the Test Data point 6  we obtain these results:\n",
            "    ['Large' 'Large' 'Large' 'Large' 'Large' 'Large' 'Large'] \n",
            "\n",
            "For the Test Data point 7  we obtain these results:\n",
            "    ['Average' 'Average' 'Average' 'Average' 'Average' 'Average' 'Average'] \n",
            "\n",
            "For the Test Data point 8  we obtain these results:\n",
            "    ['Average' 'Average' 'Average' 'Average' 'Average' 'Average' 'Average'] \n",
            "\n",
            "For the Test Data point 9  we obtain these results:\n",
            "    ['Average' 'Average' 'Average' 'Average' 'Average' 'Average' 'Average'] \n",
            "\n",
            "For the Test Data point 10  we obtain these results:\n",
            "    ['Small' 'Small' 'Small' 'Small' 'Small' 'Small' 'Small'] \n",
            "\n"
          ]
        }
      ]
    },
    {
      "cell_type": "markdown",
      "source": [
        "RMC Model:"
      ],
      "metadata": {
        "id": "I_KI2oHMYnhy"
      }
    },
    {
      "cell_type": "code",
      "source": [
        "# List to store predctions for each run\n",
        "categorizations_RMC = []\n",
        "\n",
        "# We will be analysing the data for 7 different shuffles\n",
        "for j in range(7):\n",
        "  cat_iteration = []\n",
        "  # shuffling the data\n",
        "  np.random.shuffle(train)\n",
        "\n",
        "  # Getting the categorzations\n",
        "  for i in range(len(test)):\n",
        "    cat_iteration.append(RMC(train,test[i]))\n",
        "  \n",
        "  # Storing the categorzations of each run in categorizations_RMC\n",
        "  categorizations_RMC.append(cat_iteration)\n",
        "\n",
        "# Transposing categorizations_RMC, this would cause each row to have categorization\n",
        "# results for a test data point acheived over the 7 shufflling itertions\n",
        "categorizations_RMC = np.transpose(categorizations_RMC)  \n",
        "\n",
        "for i in range(len(test)):\n",
        "  print('For the Test Data point', i+1,' we obtain these results:')\n",
        "  print('   ',categorizations_RMC[i],'\\n')"
      ],
      "metadata": {
        "colab": {
          "base_uri": "https://localhost:8080/"
        },
        "id": "DFnlTc-eF4lD",
        "outputId": "9d6ca8fc-1110-4489-c321-a09a71433676"
      },
      "execution_count": 393,
      "outputs": [
        {
          "output_type": "stream",
          "name": "stdout",
          "text": [
            "For the Test Data point 1  we obtain these results:\n",
            "    ['Average' 'Average' 'Average' 'Average' 'Average' 'Average' 'Average'] \n",
            "\n",
            "For the Test Data point 2  we obtain these results:\n",
            "    ['Average' 'Average' 'Average' 'Average' 'Average' 'Average' 'Average'] \n",
            "\n",
            "For the Test Data point 3  we obtain these results:\n",
            "    ['Average' 'Average' 'Average' 'Average' 'Average' 'Average' 'Average'] \n",
            "\n",
            "For the Test Data point 4  we obtain these results:\n",
            "    ['Average' 'Average' 'Average' 'Average' 'Average' 'Average' 'Average'] \n",
            "\n",
            "For the Test Data point 5  we obtain these results:\n",
            "    ['Average' 'Average' 'Average' 'Average' 'Average' 'Average' 'Average'] \n",
            "\n",
            "For the Test Data point 6  we obtain these results:\n",
            "    ['Average' 'Average' 'Average' 'Average' 'Average' 'Average' 'Average'] \n",
            "\n",
            "For the Test Data point 7  we obtain these results:\n",
            "    ['Small' 'Small' 'Small' 'Small' 'Small' 'Small' 'Small'] \n",
            "\n",
            "For the Test Data point 8  we obtain these results:\n",
            "    ['Average' 'Average' 'Average' 'Average' 'Average' 'Average' 'Average'] \n",
            "\n",
            "For the Test Data point 9  we obtain these results:\n",
            "    ['Average' 'Average' 'Average' 'Average' 'Average' 'Average' 'Average'] \n",
            "\n",
            "For the Test Data point 10  we obtain these results:\n",
            "    ['Small' 'Small' 'Small' 'Small' 'Small' 'Small' 'Small'] \n",
            "\n"
          ]
        }
      ]
    },
    {
      "cell_type": "markdown",
      "source": [
        "---\n",
        "We find that in both the models the categorization results remain consistent even after reshuffling the training data. Thus, it is confirmed that both the GCM and RMC Model follow data exchangability.\n",
        "\n"
      ],
      "metadata": {
        "id": "ncwRHOCQbEea"
      }
    }
  ]
}